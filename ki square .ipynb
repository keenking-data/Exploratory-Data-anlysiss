{
 "cells": [
  {
   "cell_type": "code",
   "execution_count": 1,
   "id": "d003ec9d-5dc1-47fb-ba09-cd366f6810df",
   "metadata": {},
   "outputs": [
    {
     "data": {
      "text/html": [
       "        <script type=\"text/javascript\">\n",
       "        window.PlotlyConfig = {MathJaxConfig: 'local'};\n",
       "        if (window.MathJax && window.MathJax.Hub && window.MathJax.Hub.Config) {window.MathJax.Hub.Config({SVG: {font: \"STIX-Web\"}});}\n",
       "        if (typeof require !== 'undefined') {\n",
       "        require.undef(\"plotly\");\n",
       "        requirejs.config({\n",
       "            paths: {\n",
       "                'plotly': ['https://cdn.plot.ly/plotly-2.35.2.min']\n",
       "            }\n",
       "        });\n",
       "        require(['plotly'], function(Plotly) {\n",
       "            window._Plotly = Plotly;\n",
       "        });\n",
       "        }\n",
       "        </script>\n",
       "        "
      ]
     },
     "metadata": {},
     "output_type": "display_data"
    }
   ],
   "source": [
    "import pandas as pd\n",
    "import numpy as np\n",
    "import seaborn as sns\n",
    "import matplotlib.pyplot as plt\n",
    "import plotly as py\n",
    "from plotly.offline import iplot\n",
    "import cufflinks as cf\n",
    "cf.go_offline()\n",
    "\n",
    "import warnings \n",
    "warnings.filterwarnings('ignore')"
   ]
  },
  {
   "cell_type": "code",
   "execution_count": 2,
   "id": "08be062f-b534-42f2-9b42-1ed10dedc1d9",
   "metadata": {},
   "outputs": [],
   "source": [
    "health_data = pd.read_csv(r\"C:\\Users\\user\\OneDrive\\Desktop\\data\\data\\healthcare_dataset.csv\")"
   ]
  },
  {
   "cell_type": "code",
   "execution_count": 3,
   "id": "f20f9556-04f9-46fe-8eb7-9d0b08aa8646",
   "metadata": {},
   "outputs": [
    {
     "data": {
      "text/html": [
       "<div>\n",
       "<style scoped>\n",
       "    .dataframe tbody tr th:only-of-type {\n",
       "        vertical-align: middle;\n",
       "    }\n",
       "\n",
       "    .dataframe tbody tr th {\n",
       "        vertical-align: top;\n",
       "    }\n",
       "\n",
       "    .dataframe thead th {\n",
       "        text-align: right;\n",
       "    }\n",
       "</style>\n",
       "<table border=\"1\" class=\"dataframe\">\n",
       "  <thead>\n",
       "    <tr style=\"text-align: right;\">\n",
       "      <th></th>\n",
       "      <th>Patient_ID</th>\n",
       "      <th>Age</th>\n",
       "      <th>Gender</th>\n",
       "      <th>BMI</th>\n",
       "      <th>Blood_Pressure</th>\n",
       "      <th>Cholesterol_Level</th>\n",
       "      <th>Diabetes</th>\n",
       "      <th>Hospital_Visits_Per_Year</th>\n",
       "      <th>Medication_Adherence</th>\n",
       "      <th>Smoking_Status</th>\n",
       "      <th>Exercise_Frequency</th>\n",
       "    </tr>\n",
       "  </thead>\n",
       "  <tbody>\n",
       "    <tr>\n",
       "      <th>0</th>\n",
       "      <td>P001</td>\n",
       "      <td>69</td>\n",
       "      <td>Male</td>\n",
       "      <td>33.8</td>\n",
       "      <td>Hypertension</td>\n",
       "      <td>Normal</td>\n",
       "      <td>No</td>\n",
       "      <td>0</td>\n",
       "      <td>Poor</td>\n",
       "      <td>Non-Smoker</td>\n",
       "      <td>0</td>\n",
       "    </tr>\n",
       "    <tr>\n",
       "      <th>1</th>\n",
       "      <td>P002</td>\n",
       "      <td>32</td>\n",
       "      <td>Female</td>\n",
       "      <td>21.7</td>\n",
       "      <td>Hypertension</td>\n",
       "      <td>Normal</td>\n",
       "      <td>No</td>\n",
       "      <td>0</td>\n",
       "      <td>Good</td>\n",
       "      <td>Smoker</td>\n",
       "      <td>5</td>\n",
       "    </tr>\n",
       "    <tr>\n",
       "      <th>2</th>\n",
       "      <td>P003</td>\n",
       "      <td>78</td>\n",
       "      <td>Male</td>\n",
       "      <td>40.0</td>\n",
       "      <td>Hypertension</td>\n",
       "      <td>Low</td>\n",
       "      <td>No</td>\n",
       "      <td>7</td>\n",
       "      <td>Good</td>\n",
       "      <td>Smoker</td>\n",
       "      <td>2</td>\n",
       "    </tr>\n",
       "    <tr>\n",
       "      <th>3</th>\n",
       "      <td>P004</td>\n",
       "      <td>38</td>\n",
       "      <td>Male</td>\n",
       "      <td>24.2</td>\n",
       "      <td>Normal</td>\n",
       "      <td>High</td>\n",
       "      <td>No</td>\n",
       "      <td>1</td>\n",
       "      <td>Good</td>\n",
       "      <td>Smoker</td>\n",
       "      <td>6</td>\n",
       "    </tr>\n",
       "    <tr>\n",
       "      <th>4</th>\n",
       "      <td>P005</td>\n",
       "      <td>41</td>\n",
       "      <td>Female</td>\n",
       "      <td>39.5</td>\n",
       "      <td>Prehypertension</td>\n",
       "      <td>High</td>\n",
       "      <td>No</td>\n",
       "      <td>11</td>\n",
       "      <td>Good</td>\n",
       "      <td>Smoker</td>\n",
       "      <td>0</td>\n",
       "    </tr>\n",
       "    <tr>\n",
       "      <th>...</th>\n",
       "      <td>...</td>\n",
       "      <td>...</td>\n",
       "      <td>...</td>\n",
       "      <td>...</td>\n",
       "      <td>...</td>\n",
       "      <td>...</td>\n",
       "      <td>...</td>\n",
       "      <td>...</td>\n",
       "      <td>...</td>\n",
       "      <td>...</td>\n",
       "      <td>...</td>\n",
       "    </tr>\n",
       "    <tr>\n",
       "      <th>95</th>\n",
       "      <td>P096</td>\n",
       "      <td>52</td>\n",
       "      <td>Female</td>\n",
       "      <td>35.0</td>\n",
       "      <td>Normal</td>\n",
       "      <td>High</td>\n",
       "      <td>No</td>\n",
       "      <td>0</td>\n",
       "      <td>Good</td>\n",
       "      <td>Non-Smoker</td>\n",
       "      <td>1</td>\n",
       "    </tr>\n",
       "    <tr>\n",
       "      <th>96</th>\n",
       "      <td>P097</td>\n",
       "      <td>82</td>\n",
       "      <td>Female</td>\n",
       "      <td>19.4</td>\n",
       "      <td>Normal</td>\n",
       "      <td>Low</td>\n",
       "      <td>No</td>\n",
       "      <td>4</td>\n",
       "      <td>Good</td>\n",
       "      <td>Non-Smoker</td>\n",
       "      <td>0</td>\n",
       "    </tr>\n",
       "    <tr>\n",
       "      <th>97</th>\n",
       "      <td>P098</td>\n",
       "      <td>64</td>\n",
       "      <td>Female</td>\n",
       "      <td>39.9</td>\n",
       "      <td>Hypertension</td>\n",
       "      <td>Normal</td>\n",
       "      <td>No</td>\n",
       "      <td>8</td>\n",
       "      <td>Moderate</td>\n",
       "      <td>Smoker</td>\n",
       "      <td>5</td>\n",
       "    </tr>\n",
       "    <tr>\n",
       "      <th>98</th>\n",
       "      <td>P099</td>\n",
       "      <td>20</td>\n",
       "      <td>Male</td>\n",
       "      <td>28.6</td>\n",
       "      <td>Hypertension</td>\n",
       "      <td>Low</td>\n",
       "      <td>No</td>\n",
       "      <td>11</td>\n",
       "      <td>Moderate</td>\n",
       "      <td>Smoker</td>\n",
       "      <td>2</td>\n",
       "    </tr>\n",
       "    <tr>\n",
       "      <th>99</th>\n",
       "      <td>P100</td>\n",
       "      <td>18</td>\n",
       "      <td>Female</td>\n",
       "      <td>24.5</td>\n",
       "      <td>Normal</td>\n",
       "      <td>Normal</td>\n",
       "      <td>No</td>\n",
       "      <td>9</td>\n",
       "      <td>Good</td>\n",
       "      <td>Smoker</td>\n",
       "      <td>6</td>\n",
       "    </tr>\n",
       "  </tbody>\n",
       "</table>\n",
       "<p>100 rows × 11 columns</p>\n",
       "</div>"
      ],
      "text/plain": [
       "   Patient_ID  Age  Gender   BMI   Blood_Pressure Cholesterol_Level Diabetes  \\\n",
       "0        P001   69    Male  33.8     Hypertension            Normal       No   \n",
       "1        P002   32  Female  21.7     Hypertension            Normal       No   \n",
       "2        P003   78    Male  40.0     Hypertension               Low       No   \n",
       "3        P004   38    Male  24.2           Normal              High       No   \n",
       "4        P005   41  Female  39.5  Prehypertension              High       No   \n",
       "..        ...  ...     ...   ...              ...               ...      ...   \n",
       "95       P096   52  Female  35.0           Normal              High       No   \n",
       "96       P097   82  Female  19.4           Normal               Low       No   \n",
       "97       P098   64  Female  39.9     Hypertension            Normal       No   \n",
       "98       P099   20    Male  28.6     Hypertension               Low       No   \n",
       "99       P100   18  Female  24.5           Normal            Normal       No   \n",
       "\n",
       "    Hospital_Visits_Per_Year Medication_Adherence Smoking_Status  \\\n",
       "0                          0                 Poor     Non-Smoker   \n",
       "1                          0                 Good         Smoker   \n",
       "2                          7                 Good         Smoker   \n",
       "3                          1                 Good         Smoker   \n",
       "4                         11                 Good         Smoker   \n",
       "..                       ...                  ...            ...   \n",
       "95                         0                 Good     Non-Smoker   \n",
       "96                         4                 Good     Non-Smoker   \n",
       "97                         8             Moderate         Smoker   \n",
       "98                        11             Moderate         Smoker   \n",
       "99                         9                 Good         Smoker   \n",
       "\n",
       "    Exercise_Frequency  \n",
       "0                    0  \n",
       "1                    5  \n",
       "2                    2  \n",
       "3                    6  \n",
       "4                    0  \n",
       "..                 ...  \n",
       "95                   1  \n",
       "96                   0  \n",
       "97                   5  \n",
       "98                   2  \n",
       "99                   6  \n",
       "\n",
       "[100 rows x 11 columns]"
      ]
     },
     "execution_count": 3,
     "metadata": {},
     "output_type": "execute_result"
    }
   ],
   "source": [
    "health_data"
   ]
  },
  {
   "cell_type": "code",
   "execution_count": 4,
   "id": "ddc6b254-a9d0-4c94-bb5d-f2c6a26a347f",
   "metadata": {},
   "outputs": [
    {
     "data": {
      "text/plain": [
       "Patient_ID                  0\n",
       "Age                         0\n",
       "Gender                      0\n",
       "BMI                         0\n",
       "Blood_Pressure              0\n",
       "Cholesterol_Level           0\n",
       "Diabetes                    0\n",
       "Hospital_Visits_Per_Year    0\n",
       "Medication_Adherence        0\n",
       "Smoking_Status              0\n",
       "Exercise_Frequency          0\n",
       "dtype: int64"
      ]
     },
     "execution_count": 4,
     "metadata": {},
     "output_type": "execute_result"
    }
   ],
   "source": [
    "health_data.isnull().sum()\n",
    "sns."
   ]
  },
  {
   "cell_type": "code",
   "execution_count": 6,
   "id": "6a2d7402-8479-4901-a32a-acac9c3c86f2",
   "metadata": {},
   "outputs": [
    {
     "name": "stdout",
     "output_type": "stream",
     "text": [
      "<class 'pandas.core.frame.DataFrame'>\n",
      "RangeIndex: 100 entries, 0 to 99\n",
      "Data columns (total 11 columns):\n",
      " #   Column                    Non-Null Count  Dtype  \n",
      "---  ------                    --------------  -----  \n",
      " 0   Patient_ID                100 non-null    object \n",
      " 1   Age                       100 non-null    int64  \n",
      " 2   Gender                    100 non-null    object \n",
      " 3   BMI                       100 non-null    float64\n",
      " 4   Blood_Pressure            100 non-null    object \n",
      " 5   Cholesterol_Level         100 non-null    object \n",
      " 6   Diabetes                  100 non-null    object \n",
      " 7   Hospital_Visits_Per_Year  100 non-null    int64  \n",
      " 8   Medication_Adherence      100 non-null    object \n",
      " 9   Smoking_Status            100 non-null    object \n",
      " 10  Exercise_Frequency        100 non-null    int64  \n",
      "dtypes: float64(1), int64(3), object(7)\n",
      "memory usage: 8.7+ KB\n"
     ]
    }
   ],
   "source": [
    "health_data.info()"
   ]
  },
  {
   "cell_type": "code",
   "execution_count": 7,
   "id": "299582b9-e102-4226-a184-30c4a5717e31",
   "metadata": {},
   "outputs": [
    {
     "data": {
      "text/html": [
       "<div>\n",
       "<style scoped>\n",
       "    .dataframe tbody tr th:only-of-type {\n",
       "        vertical-align: middle;\n",
       "    }\n",
       "\n",
       "    .dataframe tbody tr th {\n",
       "        vertical-align: top;\n",
       "    }\n",
       "\n",
       "    .dataframe thead th {\n",
       "        text-align: right;\n",
       "    }\n",
       "</style>\n",
       "<table border=\"1\" class=\"dataframe\">\n",
       "  <thead>\n",
       "    <tr style=\"text-align: right;\">\n",
       "      <th></th>\n",
       "      <th>Age</th>\n",
       "      <th>BMI</th>\n",
       "      <th>Hospital_Visits_Per_Year</th>\n",
       "      <th>Exercise_Frequency</th>\n",
       "    </tr>\n",
       "  </thead>\n",
       "  <tbody>\n",
       "    <tr>\n",
       "      <th>count</th>\n",
       "      <td>100.000000</td>\n",
       "      <td>100.000000</td>\n",
       "      <td>100.000000</td>\n",
       "      <td>100.000000</td>\n",
       "    </tr>\n",
       "    <tr>\n",
       "      <th>mean</th>\n",
       "      <td>50.800000</td>\n",
       "      <td>30.461000</td>\n",
       "      <td>5.180000</td>\n",
       "      <td>2.910000</td>\n",
       "    </tr>\n",
       "    <tr>\n",
       "      <th>std</th>\n",
       "      <td>21.068431</td>\n",
       "      <td>5.944081</td>\n",
       "      <td>3.574263</td>\n",
       "      <td>2.146621</td>\n",
       "    </tr>\n",
       "    <tr>\n",
       "      <th>min</th>\n",
       "      <td>18.000000</td>\n",
       "      <td>18.900000</td>\n",
       "      <td>0.000000</td>\n",
       "      <td>0.000000</td>\n",
       "    </tr>\n",
       "    <tr>\n",
       "      <th>25%</th>\n",
       "      <td>31.750000</td>\n",
       "      <td>25.800000</td>\n",
       "      <td>2.000000</td>\n",
       "      <td>1.000000</td>\n",
       "    </tr>\n",
       "    <tr>\n",
       "      <th>50%</th>\n",
       "      <td>52.000000</td>\n",
       "      <td>30.150000</td>\n",
       "      <td>5.000000</td>\n",
       "      <td>3.000000</td>\n",
       "    </tr>\n",
       "    <tr>\n",
       "      <th>75%</th>\n",
       "      <td>70.000000</td>\n",
       "      <td>35.725000</td>\n",
       "      <td>8.250000</td>\n",
       "      <td>5.000000</td>\n",
       "    </tr>\n",
       "    <tr>\n",
       "      <th>max</th>\n",
       "      <td>82.000000</td>\n",
       "      <td>40.000000</td>\n",
       "      <td>11.000000</td>\n",
       "      <td>6.000000</td>\n",
       "    </tr>\n",
       "  </tbody>\n",
       "</table>\n",
       "</div>"
      ],
      "text/plain": [
       "              Age         BMI  Hospital_Visits_Per_Year  Exercise_Frequency\n",
       "count  100.000000  100.000000                100.000000          100.000000\n",
       "mean    50.800000   30.461000                  5.180000            2.910000\n",
       "std     21.068431    5.944081                  3.574263            2.146621\n",
       "min     18.000000   18.900000                  0.000000            0.000000\n",
       "25%     31.750000   25.800000                  2.000000            1.000000\n",
       "50%     52.000000   30.150000                  5.000000            3.000000\n",
       "75%     70.000000   35.725000                  8.250000            5.000000\n",
       "max     82.000000   40.000000                 11.000000            6.000000"
      ]
     },
     "execution_count": 7,
     "metadata": {},
     "output_type": "execute_result"
    }
   ],
   "source": [
    "health_data.describe()"
   ]
  },
  {
   "cell_type": "code",
   "execution_count": 10,
   "id": "13ae4b4a-eee4-4198-a193-9051d4bd8117",
   "metadata": {},
   "outputs": [
    {
     "data": {
      "text/plain": [
       "(100, 11)"
      ]
     },
     "execution_count": 10,
     "metadata": {},
     "output_type": "execute_result"
    }
   ],
   "source": [
    "health_data.shape"
   ]
  },
  {
   "cell_type": "code",
   "execution_count": 13,
   "id": "7cdc75e1-402c-4b02-b24e-f164728faf44",
   "metadata": {},
   "outputs": [
    {
     "data": {
      "text/plain": [
       "Patient_ID                   object\n",
       "Age                           int64\n",
       "Gender                       object\n",
       "BMI                         float64\n",
       "Blood_Pressure               object\n",
       "Cholesterol_Level            object\n",
       "Diabetes                     object\n",
       "Hospital_Visits_Per_Year      int64\n",
       "Medication_Adherence         object\n",
       "Smoking_Status               object\n",
       "Exercise_Frequency            int64\n",
       "dtype: object"
      ]
     },
     "execution_count": 13,
     "metadata": {},
     "output_type": "execute_result"
    }
   ],
   "source": [
    "health_data.dtypes"
   ]
  },
  {
   "cell_type": "code",
   "execution_count": 15,
   "id": "6f1a0ad2-ae66-4a3d-8b8d-a89338ffd648",
   "metadata": {},
   "outputs": [
    {
     "data": {
      "text/plain": [
       "Index(['Patient_ID', 'Age', 'Gender', 'BMI', 'Blood_Pressure',\n",
       "       'Cholesterol_Level', 'Diabetes', 'Hospital_Visits_Per_Year',\n",
       "       'Medication_Adherence', 'Smoking_Status', 'Exercise_Frequency'],\n",
       "      dtype='object')"
      ]
     },
     "execution_count": 15,
     "metadata": {},
     "output_type": "execute_result"
    }
   ],
   "source": [
    "health_data.columns"
   ]
  },
  {
   "cell_type": "code",
   "execution_count": 24,
   "id": "f6f77dc6-4250-4e0c-9542-66a63c9353ed",
   "metadata": {},
   "outputs": [
    {
     "data": {
      "text/plain": [
       "100"
      ]
     },
     "execution_count": 24,
     "metadata": {},
     "output_type": "execute_result"
    }
   ],
   "source": [
    "health_data['Gender'].value_counts()"
   ]
  },
  {
   "cell_type": "code",
   "execution_count": 26,
   "id": "6ea1ddf3-9ddb-4e46-8fd6-56477184e025",
   "metadata": {},
   "outputs": [
    {
     "data": {
      "text/html": [
       "<div>\n",
       "<style scoped>\n",
       "    .dataframe tbody tr th:only-of-type {\n",
       "        vertical-align: middle;\n",
       "    }\n",
       "\n",
       "    .dataframe tbody tr th {\n",
       "        vertical-align: top;\n",
       "    }\n",
       "\n",
       "    .dataframe thead th {\n",
       "        text-align: right;\n",
       "    }\n",
       "</style>\n",
       "<table border=\"1\" class=\"dataframe\">\n",
       "  <thead>\n",
       "    <tr style=\"text-align: right;\">\n",
       "      <th></th>\n",
       "      <th>Patient_ID</th>\n",
       "      <th>Age</th>\n",
       "      <th>Gender</th>\n",
       "      <th>BMI</th>\n",
       "      <th>Blood_Pressure</th>\n",
       "      <th>Cholesterol_Level</th>\n",
       "      <th>Diabetes</th>\n",
       "      <th>Hospital_Visits_Per_Year</th>\n",
       "      <th>Medication_Adherence</th>\n",
       "      <th>Smoking_Status</th>\n",
       "      <th>Exercise_Frequency</th>\n",
       "    </tr>\n",
       "  </thead>\n",
       "  <tbody>\n",
       "    <tr>\n",
       "      <th>0</th>\n",
       "      <td>P001</td>\n",
       "      <td>69</td>\n",
       "      <td>Male</td>\n",
       "      <td>33.8</td>\n",
       "      <td>Hypertension</td>\n",
       "      <td>Normal</td>\n",
       "      <td>No</td>\n",
       "      <td>0</td>\n",
       "      <td>Poor</td>\n",
       "      <td>Non-Smoker</td>\n",
       "      <td>0</td>\n",
       "    </tr>\n",
       "    <tr>\n",
       "      <th>1</th>\n",
       "      <td>P002</td>\n",
       "      <td>32</td>\n",
       "      <td>Female</td>\n",
       "      <td>21.7</td>\n",
       "      <td>Hypertension</td>\n",
       "      <td>Normal</td>\n",
       "      <td>No</td>\n",
       "      <td>0</td>\n",
       "      <td>Good</td>\n",
       "      <td>Smoker</td>\n",
       "      <td>5</td>\n",
       "    </tr>\n",
       "    <tr>\n",
       "      <th>2</th>\n",
       "      <td>P003</td>\n",
       "      <td>78</td>\n",
       "      <td>Male</td>\n",
       "      <td>40.0</td>\n",
       "      <td>Hypertension</td>\n",
       "      <td>Low</td>\n",
       "      <td>No</td>\n",
       "      <td>7</td>\n",
       "      <td>Good</td>\n",
       "      <td>Smoker</td>\n",
       "      <td>2</td>\n",
       "    </tr>\n",
       "    <tr>\n",
       "      <th>3</th>\n",
       "      <td>P004</td>\n",
       "      <td>38</td>\n",
       "      <td>Male</td>\n",
       "      <td>24.2</td>\n",
       "      <td>Normal</td>\n",
       "      <td>High</td>\n",
       "      <td>No</td>\n",
       "      <td>1</td>\n",
       "      <td>Good</td>\n",
       "      <td>Smoker</td>\n",
       "      <td>6</td>\n",
       "    </tr>\n",
       "    <tr>\n",
       "      <th>4</th>\n",
       "      <td>P005</td>\n",
       "      <td>41</td>\n",
       "      <td>Female</td>\n",
       "      <td>39.5</td>\n",
       "      <td>Prehypertension</td>\n",
       "      <td>High</td>\n",
       "      <td>No</td>\n",
       "      <td>11</td>\n",
       "      <td>Good</td>\n",
       "      <td>Smoker</td>\n",
       "      <td>0</td>\n",
       "    </tr>\n",
       "    <tr>\n",
       "      <th>...</th>\n",
       "      <td>...</td>\n",
       "      <td>...</td>\n",
       "      <td>...</td>\n",
       "      <td>...</td>\n",
       "      <td>...</td>\n",
       "      <td>...</td>\n",
       "      <td>...</td>\n",
       "      <td>...</td>\n",
       "      <td>...</td>\n",
       "      <td>...</td>\n",
       "      <td>...</td>\n",
       "    </tr>\n",
       "    <tr>\n",
       "      <th>95</th>\n",
       "      <td>P096</td>\n",
       "      <td>52</td>\n",
       "      <td>Female</td>\n",
       "      <td>35.0</td>\n",
       "      <td>Normal</td>\n",
       "      <td>High</td>\n",
       "      <td>No</td>\n",
       "      <td>0</td>\n",
       "      <td>Good</td>\n",
       "      <td>Non-Smoker</td>\n",
       "      <td>1</td>\n",
       "    </tr>\n",
       "    <tr>\n",
       "      <th>96</th>\n",
       "      <td>P097</td>\n",
       "      <td>82</td>\n",
       "      <td>Female</td>\n",
       "      <td>19.4</td>\n",
       "      <td>Normal</td>\n",
       "      <td>Low</td>\n",
       "      <td>No</td>\n",
       "      <td>4</td>\n",
       "      <td>Good</td>\n",
       "      <td>Non-Smoker</td>\n",
       "      <td>0</td>\n",
       "    </tr>\n",
       "    <tr>\n",
       "      <th>97</th>\n",
       "      <td>P098</td>\n",
       "      <td>64</td>\n",
       "      <td>Female</td>\n",
       "      <td>39.9</td>\n",
       "      <td>Hypertension</td>\n",
       "      <td>Normal</td>\n",
       "      <td>No</td>\n",
       "      <td>8</td>\n",
       "      <td>Moderate</td>\n",
       "      <td>Smoker</td>\n",
       "      <td>5</td>\n",
       "    </tr>\n",
       "    <tr>\n",
       "      <th>98</th>\n",
       "      <td>P099</td>\n",
       "      <td>20</td>\n",
       "      <td>Male</td>\n",
       "      <td>28.6</td>\n",
       "      <td>Hypertension</td>\n",
       "      <td>Low</td>\n",
       "      <td>No</td>\n",
       "      <td>11</td>\n",
       "      <td>Moderate</td>\n",
       "      <td>Smoker</td>\n",
       "      <td>2</td>\n",
       "    </tr>\n",
       "    <tr>\n",
       "      <th>99</th>\n",
       "      <td>P100</td>\n",
       "      <td>18</td>\n",
       "      <td>Female</td>\n",
       "      <td>24.5</td>\n",
       "      <td>Normal</td>\n",
       "      <td>Normal</td>\n",
       "      <td>No</td>\n",
       "      <td>9</td>\n",
       "      <td>Good</td>\n",
       "      <td>Smoker</td>\n",
       "      <td>6</td>\n",
       "    </tr>\n",
       "  </tbody>\n",
       "</table>\n",
       "<p>100 rows × 11 columns</p>\n",
       "</div>"
      ],
      "text/plain": [
       "   Patient_ID  Age  Gender   BMI   Blood_Pressure Cholesterol_Level Diabetes  \\\n",
       "0        P001   69    Male  33.8     Hypertension            Normal       No   \n",
       "1        P002   32  Female  21.7     Hypertension            Normal       No   \n",
       "2        P003   78    Male  40.0     Hypertension               Low       No   \n",
       "3        P004   38    Male  24.2           Normal              High       No   \n",
       "4        P005   41  Female  39.5  Prehypertension              High       No   \n",
       "..        ...  ...     ...   ...              ...               ...      ...   \n",
       "95       P096   52  Female  35.0           Normal              High       No   \n",
       "96       P097   82  Female  19.4           Normal               Low       No   \n",
       "97       P098   64  Female  39.9     Hypertension            Normal       No   \n",
       "98       P099   20    Male  28.6     Hypertension               Low       No   \n",
       "99       P100   18  Female  24.5           Normal            Normal       No   \n",
       "\n",
       "    Hospital_Visits_Per_Year Medication_Adherence Smoking_Status  \\\n",
       "0                          0                 Poor     Non-Smoker   \n",
       "1                          0                 Good         Smoker   \n",
       "2                          7                 Good         Smoker   \n",
       "3                          1                 Good         Smoker   \n",
       "4                         11                 Good         Smoker   \n",
       "..                       ...                  ...            ...   \n",
       "95                         0                 Good     Non-Smoker   \n",
       "96                         4                 Good     Non-Smoker   \n",
       "97                         8             Moderate         Smoker   \n",
       "98                        11             Moderate         Smoker   \n",
       "99                         9                 Good         Smoker   \n",
       "\n",
       "    Exercise_Frequency  \n",
       "0                    0  \n",
       "1                    5  \n",
       "2                    2  \n",
       "3                    6  \n",
       "4                    0  \n",
       "..                 ...  \n",
       "95                   1  \n",
       "96                   0  \n",
       "97                   5  \n",
       "98                   2  \n",
       "99                   6  \n",
       "\n",
       "[100 rows x 11 columns]"
      ]
     },
     "execution_count": 26,
     "metadata": {},
     "output_type": "execute_result"
    }
   ],
   "source": [
    "health_data"
   ]
  },
  {
   "cell_type": "code",
   "execution_count": 28,
   "id": "665d7cab-9f1d-486b-993e-51a57e6d6013",
   "metadata": {},
   "outputs": [
    {
     "data": {
      "text/plain": [
       "Smoking_Status\n",
       "Non-Smoker    76\n",
       "Smoker        24\n",
       "Name: count, dtype: int64"
      ]
     },
     "execution_count": 28,
     "metadata": {},
     "output_type": "execute_result"
    }
   ],
   "source": [
    "health_data['Smoking_Status'].value_counts()"
   ]
  },
  {
   "cell_type": "code",
   "execution_count": 27,
   "id": "c10db47c-7fa6-4cae-a88a-41b07a8c17c6",
   "metadata": {},
   "outputs": [
    {
     "data": {
      "text/plain": [
       "Blood_Pressure\n",
       "Normal             52\n",
       "Hypertension       24\n",
       "Prehypertension    24\n",
       "Name: count, dtype: int64"
      ]
     },
     "execution_count": 27,
     "metadata": {},
     "output_type": "execute_result"
    }
   ],
   "source": [
    "health_data['Blood_Pressure'].value_counts()"
   ]
  },
  {
   "cell_type": "code",
   "execution_count": 38,
   "id": "736f7990-7830-46aa-8c07-ecdfa891ddcd",
   "metadata": {},
   "outputs": [],
   "source": [
    "from scipy.stats import chi2_contingency"
   ]
  },
  {
   "cell_type": "code",
   "execution_count": 40,
   "id": "6a7bd8d6-0d0b-487c-9a93-b488705a4106",
   "metadata": {},
   "outputs": [],
   "source": [
    "contingency_table=pd.crosstab(health_data['Smoking_Status'] , health_data['Blood_Pressure'])"
   ]
  },
  {
   "cell_type": "code",
   "execution_count": 54,
   "id": "64ef3ea0-bb58-43af-971f-3b6d8250b09c",
   "metadata": {},
   "outputs": [
    {
     "data": {
      "text/plain": [
       "Chi2ContingencyResult(statistic=3.1784188034188037, pvalue=0.20408689872246732, dof=2, expected_freq=array([[18.24, 39.52, 18.24],\n",
       "       [ 5.76, 12.48,  5.76]]))"
      ]
     },
     "execution_count": 54,
     "metadata": {},
     "output_type": "execute_result"
    }
   ],
   "source": [
    "chi2 = chi2_contingency(contingency_table)\n",
    "chi2"
   ]
  },
  {
   "cell_type": "code",
   "execution_count": 55,
   "id": "25c734e9-4760-4670-96f6-0b29a9633440",
   "metadata": {},
   "outputs": [
    {
     "data": {
      "text/plain": [
       "Chi2ContingencyResult(statistic=3.1784188034188037, pvalue=0.20408689872246732, dof=2, expected_freq=array([[18.24, 39.52, 18.24],\n",
       "       [ 5.76, 12.48,  5.76]]))"
      ]
     },
     "execution_count": 55,
     "metadata": {},
     "output_type": "execute_result"
    }
   ],
   "source": [
    "dof=chi2_contingency(contingency_table)\n",
    "dof"
   ]
  },
  {
   "cell_type": "code",
   "execution_count": 57,
   "id": "cb82015c-6ea2-4e7b-b1cd-314e4afb9cec",
   "metadata": {},
   "outputs": [
    {
     "data": {
      "text/plain": [
       "Chi2ContingencyResult(statistic=3.1784188034188037, pvalue=0.20408689872246732, dof=2, expected_freq=array([[18.24, 39.52, 18.24],\n",
       "       [ 5.76, 12.48,  5.76]]))"
      ]
     },
     "execution_count": 57,
     "metadata": {},
     "output_type": "execute_result"
    }
   ],
   "source": [
    "p=chi2_contingency(contingency_table)\n",
    "p"
   ]
  },
  {
   "cell_type": "code",
   "execution_count": null,
   "id": "055aa8d9-1459-441a-a021-9829bb185437",
   "metadata": {},
   "outputs": [],
   "source": [
    "#is there significant relationship btwn smoking status and blood pressure\n"
   ]
  }
 ],
 "metadata": {
  "kernelspec": {
   "display_name": "Python [conda env:base] *",
   "language": "python",
   "name": "conda-base-py"
  },
  "language_info": {
   "codemirror_mode": {
    "name": "ipython",
    "version": 3
   },
   "file_extension": ".py",
   "mimetype": "text/x-python",
   "name": "python",
   "nbconvert_exporter": "python",
   "pygments_lexer": "ipython3",
   "version": "3.12.7"
  }
 },
 "nbformat": 4,
 "nbformat_minor": 5
}
